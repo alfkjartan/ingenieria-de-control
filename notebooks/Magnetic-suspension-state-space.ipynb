{
 "cells": [
  {
   "cell_type": "code",
   "execution_count": 4,
   "metadata": {
    "collapsed": true
   },
   "outputs": [],
   "source": [
    "import sympy as sy\n",
    "import numpy as np\n",
    "sy.init_printing()"
   ]
  },
  {
   "cell_type": "code",
   "execution_count": 5,
   "metadata": {
    "collapsed": true
   },
   "outputs": [],
   "source": [
    "omega, b = sy.symbols('omega, b')"
   ]
  },
  {
   "cell_type": "code",
   "execution_count": 9,
   "metadata": {
    "collapsed": false
   },
   "outputs": [
    {
     "data": {
      "image/png": "[encoded data removed]",
      "text/latex": [
       "$$\\left[\\begin{matrix}0 & 1\\\\- 2 \\omega^{2} & - 2 \\omega\\end{matrix}\\right]$$"
      ],
      "text/plain": [
       "⎡  0     1  ⎤\n",
       "⎢           ⎥\n",
       "⎢    2      ⎥\n",
       "⎣-2⋅ω   -2⋅ω⎦"
      ]
     },
     "execution_count": 9,
     "metadata": {},
     "output_type": "execute_result"
    }
   ],
   "source": [
    "A = sy.Matrix([[0, 1], [omega**2, 0]])\n",
    "B = sy.Matrix([[0],[1]])\n",
    "L = sy.Matrix([[3*omega**2, 2*omega]])\n",
    "Ac = A-B*L\n",
    "Ac"
   ]
  },
  {
   "cell_type": "code",
   "execution_count": 10,
   "metadata": {
    "collapsed": false
   },
   "outputs": [
    {
     "data": {
      "image/png": "[encoded data removed]",
      "text/latex": [
       "$$\\left \\{ \\omega \\left(-1 - i\\right) : 1, \\quad \\omega \\left(-1 + i\\right) : 1\\right \\}$$"
      ],
      "text/plain": [
       "{ω⋅(-1 - ⅈ): 1, ω⋅(-1 + ⅈ): 1}"
      ]
     },
     "execution_count": 10,
     "metadata": {},
     "output_type": "execute_result"
    }
   ],
   "source": [
    "Ac.eigenvals()"
   ]
  },
  {
   "cell_type": "code",
   "execution_count": null,
   "metadata": {
    "collapsed": true
   },
   "outputs": [],
   "source": []
  }
 ],
 "metadata": {
  "kernelspec": {
   "display_name": "Python 2",
   "language": "python",
   "name": "python2"
  },
  "language_info": {
   "codemirror_mode": {
    "name": "ipython",
    "version": 2
   },
   "file_extension": ".py",
   "mimetype": "text/x-python",
   "name": "python",
   "nbconvert_exporter": "python",
   "pygments_lexer": "ipython2",
   "version": "2.7.13"
  }
 },
 "nbformat": 4,
 "nbformat_minor": 2
}
