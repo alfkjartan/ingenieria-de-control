{
 "cells": [
  {
   "cell_type": "code",
   "execution_count": 9,
   "metadata": {},
   "outputs": [],
   "source": [
    "import sympy as sy\n",
    "import numpy as np\n",
    "sy.init_printing()"
   ]
  },
  {
   "cell_type": "code",
   "execution_count": 10,
   "metadata": {
    "collapsed": true
   },
   "outputs": [],
   "source": [
    "K2 = sy.symbols('K2')\n",
    "Ac = sy.Matrix([[-3/2, -3/4, -1/(8*K2)], [1, 0, 0], [0, K2, 0]])"
   ]
  },
  {
   "cell_type": "code",
   "execution_count": 11,
   "metadata": {},
   "outputs": [
    {
     "data": {
      "image/png": "[encoded data removed]",
      "text/latex": [
       "$$\\left[\\begin{matrix}0 & 1 & 0\\\\0 & 0 & \\frac{1}{K_{2}}\\\\- 8 K_{2} & - 16 K_{2} & -8\\end{matrix}\\right]$$"
      ],
      "text/plain": [
       "⎡  0      1     0 ⎤\n",
       "⎢                 ⎥\n",
       "⎢               1 ⎥\n",
       "⎢  0      0     ──⎥\n",
       "⎢               K₂⎥\n",
       "⎢                 ⎥\n",
       "⎣-8⋅K₂  -16⋅K₂  -8⎦"
      ]
     },
     "execution_count": 11,
     "metadata": {},
     "output_type": "execute_result"
    }
   ],
   "source": [
    "Ac.inv()"
   ]
  },
  {
   "cell_type": "code",
   "execution_count": 12,
   "metadata": {
    "collapsed": true
   },
   "outputs": [],
   "source": [
    "s =sy.symbols('s', real=False)"
   ]
  },
  {
   "cell_type": "code",
   "execution_count": 14,
   "metadata": {},
   "outputs": [
    {
     "data": {
      "image/png": "[encoded data removed]",
      "text/latex": [
       "$$\\left [ - \\frac{2}{3} - \\frac{4}{3 \\left(- \\frac{1}{2} - \\frac{\\sqrt{3} i}{2}\\right) \\sqrt[3]{\\frac{3 \\sqrt{177}}{2} + \\frac{43}{2}}} - \\frac{1}{3} \\left(- \\frac{1}{2} - \\frac{\\sqrt{3} i}{2}\\right) \\sqrt[3]{\\frac{3 \\sqrt{177}}{2} + \\frac{43}{2}}, \\quad - \\frac{2}{3} - \\frac{1}{3} \\left(- \\frac{1}{2} + \\frac{\\sqrt{3} i}{2}\\right) \\sqrt[3]{\\frac{3 \\sqrt{177}}{2} + \\frac{43}{2}} - \\frac{4}{3 \\left(- \\frac{1}{2} + \\frac{\\sqrt{3} i}{2}\\right) \\sqrt[3]{\\frac{3 \\sqrt{177}}{2} + \\frac{43}{2}}}\\right ]$$"
      ],
      "text/plain": [
       "⎡                                                          _____________      \n",
       "⎢                                         ⎛  1   √3⋅ⅈ⎞    ╱ 3⋅√177   43       \n",
       "⎢                                         ⎜- ─ - ────⎟⋅3 ╱  ────── + ──       \n",
       "⎢  2                  4                   ⎝  2    2  ⎠ ╲╱     2      2      2 \n",
       "⎢- ─ - ──────────────────────────────── - ──────────────────────────────, - ─ \n",
       "⎢  3                      _____________                 3                   3 \n",
       "⎢        ⎛  1   √3⋅ⅈ⎞    ╱ 3⋅√177   43                                        \n",
       "⎢      3⋅⎜- ─ - ────⎟⋅3 ╱  ────── + ──                                        \n",
       "⎣        ⎝  2    2  ⎠ ╲╱     2      2                                         \n",
       "\n",
       "                   _____________                                   ⎤\n",
       "  ⎛  1   √3⋅ⅈ⎞    ╱ 3⋅√177   43                                    ⎥\n",
       "  ⎜- ─ + ────⎟⋅3 ╱  ────── + ──                                    ⎥\n",
       "  ⎝  2    2  ⎠ ╲╱     2      2                    4                ⎥\n",
       "- ────────────────────────────── - ────────────────────────────────⎥\n",
       "                3                                     _____________⎥\n",
       "                                     ⎛  1   √3⋅ⅈ⎞    ╱ 3⋅√177   43 ⎥\n",
       "                                   3⋅⎜- ─ + ────⎟⋅3 ╱  ────── + ── ⎥\n",
       "                                     ⎝  2    2  ⎠ ╲╱     2      2  ⎦"
      ]
     },
     "execution_count": 14,
     "metadata": {},
     "output_type": "execute_result"
    }
   ],
   "source": [
    "sy.solve(s**2*(s+2) + 1)"
   ]
  },
  {
   "cell_type": "code",
   "execution_count": 16,
   "metadata": {},
   "outputs": [
    {
     "data": {
      "image/png": "[encoded data removed]",
      "text/latex": [
       "$$2$$"
      ],
      "text/plain": [
       "2"
      ]
     },
     "execution_count": 16,
     "metadata": {},
     "output_type": "execute_result"
    }
   ],
   "source": [
    "len(Out[14])"
   ]
  },
  {
   "cell_type": "code",
   "execution_count": 17,
   "metadata": {},
   "outputs": [
    {
     "data": {
      "text/plain": [
       "'1.0'"
      ]
     },
     "execution_count": 17,
     "metadata": {},
     "output_type": "execute_result"
    }
   ],
   "source": [
    "sy.__version__"
   ]
  },
  {
   "cell_type": "code",
   "execution_count": null,
   "metadata": {
    "collapsed": true
   },
   "outputs": [],
   "source": []
  }
 ],
 "metadata": {
  "kernelspec": {
   "display_name": "Python 2",
   "language": "python",
   "name": "python2"
  },
  "language_info": {
   "codemirror_mode": {
    "name": "ipython",
    "version": 2
   },
   "file_extension": ".py",
   "mimetype": "text/x-python",
   "name": "python",
   "nbconvert_exporter": "python",
   "pygments_lexer": "ipython2",
   "version": "2.7.13"
  }
 },
 "nbformat": 4,
 "nbformat_minor": 1
}
