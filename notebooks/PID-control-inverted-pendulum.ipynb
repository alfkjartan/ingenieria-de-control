{
 "cells": [
  {
   "cell_type": "code",
   "execution_count": 1,
   "metadata": {
    "collapsed": true
   },
   "outputs": [],
   "source": [
    "import sympy as sy\n",
    "import numpy as np"
   ]
  },
  {
   "cell_type": "code",
   "execution_count": 15,
   "metadata": {
    "collapsed": false
   },
   "outputs": [],
   "source": [
    "w, a, b = sy.symbols('w, a, b', real=True, positive=True)\n",
    "s = sy.symbols('s', real=False)\n",
    "Kd, Kp, Ki = sy.symbols('Kd, Kp, Ki', real=True, positive=True)\n"
   ]
  },
  {
   "cell_type": "code",
   "execution_count": 10,
   "metadata": {
    "collapsed": false
   },
   "outputs": [],
   "source": [
    "p1 = -w\n",
    "p2 = -np.sqrt(2)/2*w + sy.I*np.sqrt(2)/2*w\n",
    "p3 = -np.sqrt(2)/2*w - sy.I*np.sqrt(2)/2*w"
   ]
  },
  {
   "cell_type": "code",
   "execution_count": 11,
   "metadata": {
    "collapsed": false
   },
   "outputs": [
    {
     "data": {
      "text/plain": [
       "s**2 + 1.4142135623731*s*w + 1.0*w**2"
      ]
     },
     "execution_count": 11,
     "metadata": {},
     "output_type": "execute_result"
    }
   ],
   "source": [
    "sy.simplify(sy.expand((s-p2)*(s-p3)))"
   ]
  },
  {
   "cell_type": "code",
   "execution_count": 12,
   "metadata": {
    "collapsed": false
   },
   "outputs": [
    {
     "data": {
      "text/plain": [
       "s**3 + 2.41421356237309*s**2*w + 2.4142135623731*s*w**2 + 1.0*w**3"
      ]
     },
     "execution_count": 12,
     "metadata": {},
     "output_type": "execute_result"
    }
   ],
   "source": [
    "Ac = sy.simplify(sy.expand((s-p1)*(s-p2)*(s-p3)))"
   ]
  },
  {
   "cell_type": "code",
   "execution_count": 17,
   "metadata": {
    "collapsed": false
   },
   "outputs": [
    {
     "name": "stdout",
     "output_type": "stream",
     "text": [
      "Ki*b + s**3 + s**2*(Kd*b + a) + s*(Kp*b - w**2)\n"
     ]
    }
   ],
   "source": [
    "A = s**2 + a*s -w*w\n",
    "B = b\n",
    "R = s\n",
    "S = Kd*s**2 + Kp*s + Ki\n",
    "LHS = sy.collect(sy.expand(A*R+B*S), s)\n",
    "print LHS"
   ]
  },
  {
   "cell_type": "code",
   "execution_count": null,
   "metadata": {
    "collapsed": true
   },
   "outputs": [],
   "source": []
  }
 ],
 "metadata": {
  "kernelspec": {
   "display_name": "Python 2",
   "language": "python",
   "name": "python2"
  },
  "language_info": {
   "codemirror_mode": {
    "name": "ipython",
    "version": 2
   },
   "file_extension": ".py",
   "mimetype": "text/x-python",
   "name": "python",
   "nbconvert_exporter": "python",
   "pygments_lexer": "ipython2",
   "version": "2.7.13"
  }
 },
 "nbformat": 4,
 "nbformat_minor": 2
}
