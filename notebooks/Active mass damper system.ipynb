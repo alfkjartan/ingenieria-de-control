{
 "cells": [
  {
   "cell_type": "code",
   "execution_count": 30,
   "metadata": {},
   "outputs": [],
   "source": [
    "import sympy as sy\n",
    "import numpy as np\n",
    "import control.matlab as cm\n",
    "from mpmath import polyroots\n",
    "sy.init_printing()"
   ]
  },
  {
   "cell_type": "code",
   "execution_count": 31,
   "metadata": {},
   "outputs": [],
   "source": [
    "kb, k, f, m, M = sy.symbols('k_b, k, f, m, M', real=True)\n",
    "W = 1/m + 1/M"
   ]
  },
  {
   "cell_type": "code",
   "execution_count": 32,
   "metadata": {
    "collapsed": true
   },
   "outputs": [],
   "source": [
    "s = sy.symbols('s', real=False)"
   ]
  },
  {
   "cell_type": "code",
   "execution_count": 33,
   "metadata": {},
   "outputs": [
    {
     "data": {
      "image/png": "[encoded data removed]",
      "text/latex": [
       "$$\\left[\\begin{matrix}0 & 1 & 0 & 0\\\\- \\frac{k_{b}}{M} & 0 & \\frac{k}{M} & \\frac{f}{M}\\\\0 & 0 & 0 & 1\\\\\\frac{k_{b}}{M} & 0 & - k \\left(\\frac{1}{m} + \\frac{1}{M}\\right) & - f \\left(\\frac{1}{m} + \\frac{1}{M}\\right)\\end{matrix}\\right]$$"
      ],
      "text/plain": [
       "⎡  0    1      0           0     ⎤\n",
       "⎢                                ⎥\n",
       "⎢-k_b          k           f     ⎥\n",
       "⎢─────  0      ─           ─     ⎥\n",
       "⎢  M           M           M     ⎥\n",
       "⎢                                ⎥\n",
       "⎢  0    0      0           1     ⎥\n",
       "⎢                                ⎥\n",
       "⎢ k_b         ⎛1   1⎞     ⎛1   1⎞⎥\n",
       "⎢ ───   0  -k⋅⎜─ + ─⎟  -f⋅⎜─ + ─⎟⎥\n",
       "⎣  M          ⎝m   M⎠     ⎝m   M⎠⎦"
      ]
     },
     "execution_count": 33,
     "metadata": {},
     "output_type": "execute_result"
    }
   ],
   "source": [
    "A = sy.Matrix([[0, 1, 0, 0], [-kb/M, 0, k/M, f/M], [0,0,0,1], [kb/M, 0, -k*W, -f*W]])\n",
    "B = sy.Matrix([[0],[1/M], [0], [-W]])\n",
    "Bv = sy.Matrix([[0],[1/M], [0], [-1/M]])\n",
    "C = sy.Matrix([[1., 0, 0, 0]])\n",
    "\n",
    "A\n"
   ]
  },
  {
   "cell_type": "code",
   "execution_count": 34,
   "metadata": {},
   "outputs": [],
   "source": [
    "G = C*(s*sy.eye(4)- A).inv()*B\n",
    "Gv = C*(s*sy.eye(4)- A).inv()*Bv\n"
   ]
  },
  {
   "cell_type": "code",
   "execution_count": 35,
   "metadata": {},
   "outputs": [
    {
     "data": {
      "image/png": "[encoded data removed]",
      "text/latex": [
       "$$\\left[\\begin{matrix}- \\frac{1.0 \\left(- \\frac{1}{m} - \\frac{1}{M}\\right) \\left(- \\frac{f s^{2}}{M} - \\frac{k s}{M}\\right)}{k s \\left(\\frac{1}{m} + \\frac{1}{M}\\right) \\left(s^{2} + \\frac{k_{b}}{M}\\right) + s \\left(s \\left(s^{2} + \\frac{k_{b}}{M}\\right) \\left(f \\left(\\frac{1}{m} + \\frac{1}{M}\\right) + s\\right) - \\frac{f k_{b}}{M^{2}} s\\right) - \\frac{k k_{b}}{M^{2}} s} + \\frac{1.0 \\left(s^{2} \\left(k s \\left(\\frac{1}{m} + \\frac{1}{M}\\right) \\left(s^{2} + \\frac{k_{b}}{M}\\right) + s \\left(s \\left(s^{2} + \\frac{k_{b}}{M}\\right) \\left(f \\left(\\frac{1}{m} + \\frac{1}{M}\\right) + s\\right) - \\frac{f k_{b}}{M^{2}} s\\right) - \\frac{k k_{b}}{M^{2}} s\\right) - \\frac{k_{b} s^{2}}{M} \\left(- \\frac{f s^{2}}{M} - \\frac{k s}{M}\\right)\\right)}{M s^{2} \\left(s^{2} + \\frac{k_{b}}{M}\\right) \\left(k s \\left(\\frac{1}{m} + \\frac{1}{M}\\right) \\left(s^{2} + \\frac{k_{b}}{M}\\right) + s \\left(s \\left(s^{2} + \\frac{k_{b}}{M}\\right) \\left(f \\left(\\frac{1}{m} + \\frac{1}{M}\\right) + s\\right) - \\frac{f k_{b}}{M^{2}} s\\right) - \\frac{k k_{b}}{M^{2}} s\\right)}\\end{matrix}\\right]$$"
      ],
      "text/plain": [
       "⎡                                                                             \n",
       "⎢                                                                             \n",
       "⎢                                                                             \n",
       "⎢                                         ⎛     2      ⎞                      \n",
       "⎢                               ⎛  1   1⎞ ⎜  f⋅s    k⋅s⎟                      \n",
       "⎢                           1.0⋅⎜- ─ - ─⎟⋅⎜- ──── - ───⎟                      \n",
       "⎢                               ⎝  m   M⎠ ⎝   M      M ⎠                      \n",
       "⎢- ───────────────────────────────────────────────────────────────────────────\n",
       "⎢      ⎛1   1⎞ ⎛ 2   k_b⎞     ⎛  ⎛ 2   k_b⎞ ⎛  ⎛1   1⎞    ⎞   f⋅k_b⋅s⎞   k⋅k_b\n",
       "⎢  k⋅s⋅⎜─ + ─⎟⋅⎜s  + ───⎟ + s⋅⎜s⋅⎜s  + ───⎟⋅⎜f⋅⎜─ + ─⎟ + s⎟ - ───────⎟ - ─────\n",
       "⎢      ⎝m   M⎠ ⎝      M ⎠     ⎜  ⎝      M ⎠ ⎝  ⎝m   M⎠    ⎠       2  ⎟       2\n",
       "⎣                             ⎝                                  M   ⎠      M \n",
       "\n",
       "         ⎛                                                                    \n",
       "         ⎜                                                                    \n",
       "         ⎜                                                                    \n",
       "         ⎜ 2 ⎛    ⎛1   1⎞ ⎛ 2   k_b⎞     ⎛  ⎛ 2   k_b⎞ ⎛  ⎛1   1⎞    ⎞   f⋅k_b\n",
       "     1.0⋅⎜s ⋅⎜k⋅s⋅⎜─ + ─⎟⋅⎜s  + ───⎟ + s⋅⎜s⋅⎜s  + ───⎟⋅⎜f⋅⎜─ + ─⎟ + s⎟ - ─────\n",
       "         ⎜   ⎜    ⎝m   M⎠ ⎝      M ⎠     ⎜  ⎝      M ⎠ ⎝  ⎝m   M⎠    ⎠       2\n",
       "         ⎝   ⎝                           ⎝                                  M \n",
       "── + ─────────────────────────────────────────────────────────────────────────\n",
       "⋅s              2 ⎛ 2   k_b⎞ ⎛    ⎛1   1⎞ ⎛ 2   k_b⎞     ⎛  ⎛ 2   k_b⎞ ⎛  ⎛1  \n",
       "──           M⋅s ⋅⎜s  + ───⎟⋅⎜k⋅s⋅⎜─ + ─⎟⋅⎜s  + ───⎟ + s⋅⎜s⋅⎜s  + ───⎟⋅⎜f⋅⎜─ +\n",
       "                  ⎝      M ⎠ ⎜    ⎝m   M⎠ ⎝      M ⎠     ⎜  ⎝      M ⎠ ⎝  ⎝m  \n",
       "                             ⎝                           ⎝                    \n",
       "\n",
       "                        ⎛     2      ⎞⎞⎤\n",
       "                      2 ⎜  f⋅s    k⋅s⎟⎟⎥\n",
       "                 k_b⋅s ⋅⎜- ──── - ───⎟⎟⎥\n",
       "⋅s⎞   k⋅k_b⋅s⎞          ⎝   M      M ⎠⎟⎥\n",
       "──⎟ - ───────⎟ - ─────────────────────⎟⎥\n",
       "  ⎟       2  ⎟             M          ⎟⎥\n",
       "  ⎠      M   ⎠                        ⎠⎥\n",
       "───────────────────────────────────────⎥\n",
       " 1⎞    ⎞   f⋅k_b⋅s⎞   k⋅k_b⋅s⎞         ⎥\n",
       " ─⎟ + s⎟ - ───────⎟ - ───────⎟         ⎥\n",
       " M⎠    ⎠       2  ⎟       2  ⎟         ⎥\n",
       "              M   ⎠      M   ⎠         ⎦"
      ]
     },
     "execution_count": 35,
     "metadata": {},
     "output_type": "execute_result"
    }
   ],
   "source": [
    "G"
   ]
  },
  {
   "cell_type": "code",
   "execution_count": 57,
   "metadata": {},
   "outputs": [],
   "source": [
    "# Constants\n",
    "Mn = 100\n",
    "mn = 6\n",
    "kbn = 100\n",
    "kn = 3\n",
    "fn = 3\n",
    "\n",
    "Gn = G.subs([(M,Mn), (m,mn), (kb, kbn), (k, kn), (f, fn)])\n",
    "Gn = sy.simplify(Gn[0])\n",
    "(num, den) = sy.fraction(Gn)\n",
    "numP = sy.Poly(num, s)\n",
    "numcoeffs = np.asarray(numP.all_coeffs(), dtype=float)\n",
    "denP = sy.Poly(den, s)\n",
    "dencoeffs = np.asarray(denP.all_coeffs(), dtype=float)\n",
    "\n",
    "Gvn = Gv.subs([(M,Mn), (m,mn), (kb, kbn), (k, kn), (f, fn)])\n",
    "Gvn = sy.simplify(Gvn[0])\n",
    "(numv, denv) = sy.fraction(Gvn)\n",
    "numPv = sy.Poly(numv, s)\n",
    "numcoeffsv = np.asarray(numPv.all_coeffs(), dtype=float)\n",
    "denPv = sy.Poly(denv, s)\n",
    "dencoeffsv = np.asarray(denPv.all_coeffs(), dtype=float)\n"
   ]
  },
  {
   "cell_type": "code",
   "execution_count": 37,
   "metadata": {},
   "outputs": [
    {
     "data": {
      "text/plain": [
       "[mpc(real='-0.23408260199788464', imag='-0.66645226904530763'),\n",
       " mpc(real='-0.23408260199788464', imag='0.66645226904530763'),\n",
       " mpc(real='-0.030917398002115359', imag='1.000570798665283'),\n",
       " mpc(real='-0.030917398002115359', imag='-1.000570798665283')]"
      ]
     },
     "execution_count": 37,
     "metadata": {},
     "output_type": "execute_result"
    }
   ],
   "source": [
    "#sy.factor(denP, extension=[sy.I])\n",
    "poles = polyroots(dencoeffs)\n",
    "poles"
   ]
  },
  {
   "cell_type": "code",
   "execution_count": 58,
   "metadata": {},
   "outputs": [
    {
     "data": {
      "text/plain": [
       "([array([  2.00051208e-06,   2.91378314e-06,   4.24420578e-06,\n",
       "           6.18257464e-06,   9.00723378e-06,   1.31245695e-05,\n",
       "           1.91285900e-05,   2.78889877e-05,   4.06821515e-05,\n",
       "           5.93878728e-05,   8.67885090e-05,   1.27032079e-04,\n",
       "           1.86366372e-04,   2.74339512e-04,   4.05842588e-04,\n",
       "           6.04757638e-04,   9.10857585e-04,   1.39374376e-03,\n",
       "           2.18311482e-03,   3.53951208e-03,   6.02822449e-03,\n",
       "           1.09125877e-02,   2.04395076e-02,   3.62804043e-02,\n",
       "           8.43341383e-02,   6.39522785e-02,   1.64827336e-02,\n",
       "           7.48058440e-03,   4.07532128e-03,   2.42769344e-03,\n",
       "           1.52168347e-03,   9.84019763e-04,   6.49143397e-04,\n",
       "           4.33859226e-04,   2.92503692e-04,   1.98358852e-04,\n",
       "           1.35048487e-04,   9.21926070e-05,   6.30520716e-05,\n",
       "           4.31764912e-05,   2.95915837e-05,   2.02929212e-05,\n",
       "           1.39218230e-05,   9.55361677e-06,   6.55725362e-06,\n",
       "           4.50124591e-06,   3.09016980e-06,   2.12157611e-06,\n",
       "           1.45664324e-06,   1.00013897e-06]),\n",
       "  array([  1.00010601e-02,   1.00015440e-02,   1.00022488e-02,\n",
       "           1.00032754e-02,   1.00047709e-02,   1.00069497e-02,\n",
       "           1.00101247e-02,   1.00147527e-02,   1.00215011e-02,\n",
       "           1.00313472e-02,   1.00457248e-02,   1.00667456e-02,\n",
       "           1.00975340e-02,   1.01427481e-02,   1.02094048e-02,\n",
       "           1.03082390e-02,   1.04560414e-02,   1.06799312e-02,\n",
       "           1.10257713e-02,   1.15763407e-02,   1.24947553e-02,\n",
       "           1.41360915e-02,   1.73213274e-02,   2.44476610e-02,\n",
       "           5.71355316e-02,   4.74360451e-02,   1.33316328e-02,\n",
       "           6.45735188e-03,   3.68312999e-03,   2.26482826e-03,\n",
       "           1.45090385e-03,   9.52390545e-04,   6.34755352e-04,\n",
       "           4.27237317e-04,   2.89432275e-04,   1.96926784e-04,\n",
       "           1.34378409e-04,   9.18783158e-05,   6.29044153e-05,\n",
       "           4.31070432e-05,   2.95588948e-05,   2.02775265e-05,\n",
       "           1.39145704e-05,   9.55019910e-06,   6.55564283e-06,\n",
       "           4.50048663e-06,   3.08981188e-06,   2.12140737e-06,\n",
       "           1.45656369e-06,   1.00010147e-06])],\n",
       " [array([ 179.4269467 ,  179.30839089,  179.16527874,  178.99250196,\n",
       "          178.78387299,  178.53188435,  178.22740502,  177.85929051,\n",
       "          177.41387069,  176.8742577 ,  176.21937834,  175.42256784,\n",
       "          174.44943826,  173.25450211,  171.77557894,  169.9240929 ,\n",
       "          167.5674066 ,  164.49490559,  160.3489531 ,  154.47550196,\n",
       "          145.5874245 ,  131.07225655,  106.68498987,   72.63633073,\n",
       "           34.29526456, -125.64031609, -147.55666673, -156.39002028,\n",
       "         -161.85184456, -165.659012  , -168.48012886, -170.64987708,\n",
       "         -172.35945979, -173.72834018, -174.83640222, -175.73999673,\n",
       "         -176.48058057, -177.08965933, -177.59176948, -178.0063683 ,\n",
       "         -178.34908845, -178.63260751, -178.86727454, -179.0615768 ,\n",
       "         -179.22249704, -179.35579301, -179.46621963, -179.55770786,\n",
       "         -179.63350983, -179.6963174 ]),\n",
       "  array([ -6.87828534e-10,  -1.76085659e-09,  -4.50821273e-09,\n",
       "          -1.15435226e-08,  -2.95631172e-08,  -7.57313276e-08,\n",
       "          -1.94073497e-07,  -4.97619891e-07,  -1.27696843e-06,\n",
       "          -3.28075685e-06,  -8.44332673e-06,  -2.17841586e-05,\n",
       "          -5.64099221e-05,  -1.46855245e-04,  -3.85314936e-04,\n",
       "          -1.02261446e-03,  -2.75994227e-03,  -7.63477791e-03,\n",
       "          -2.18965567e-02,  -6.61576226e-02,  -2.14560140e-01,\n",
       "          -7.50011895e-01,  -2.59220957e+00,  -6.99813294e+00,\n",
       "          -1.98733717e+01,  -1.63492208e+02,  -1.75351160e+02,\n",
       "          -1.77616213e+02,  -1.78503371e+02,  -1.78957761e+02,\n",
       "          -1.79228659e+02,  -1.79406998e+02,  -1.79532729e+02,\n",
       "          -1.79625758e+02,  -1.79696980e+02,  -1.79752835e+02,\n",
       "          -1.79797386e+02,  -1.79833340e+02,  -1.79862595e+02,\n",
       "          -1.79886534e+02,  -1.79906201e+02,  -1.79922401e+02,\n",
       "          -1.79935770e+02,  -1.79946817e+02,  -1.79955954e+02,\n",
       "          -1.79963515e+02,  -1.79969774e+02,  -1.79974958e+02,\n",
       "          -1.79979251e+02,  -1.79982808e+02])],\n",
       " [array([  1.00000000e-02,   1.20679264e-02,   1.45634848e-02,\n",
       "           1.75751062e-02,   2.12095089e-02,   2.55954792e-02,\n",
       "           3.08884360e-02,   3.72759372e-02,   4.49843267e-02,\n",
       "           5.42867544e-02,   6.55128557e-02,   7.90604321e-02,\n",
       "           9.54095476e-02,   1.15139540e-01,   1.38949549e-01,\n",
       "           1.67683294e-01,   2.02358965e-01,   2.44205309e-01,\n",
       "           2.94705170e-01,   3.55648031e-01,   4.29193426e-01,\n",
       "           5.17947468e-01,   6.25055193e-01,   7.54312006e-01,\n",
       "           9.10298178e-01,   1.09854114e+00,   1.32571137e+00,\n",
       "           1.59985872e+00,   1.93069773e+00,   2.32995181e+00,\n",
       "           2.81176870e+00,   3.39322177e+00,   4.09491506e+00,\n",
       "           4.94171336e+00,   5.96362332e+00,   7.19685673e+00,\n",
       "           8.68511374e+00,   1.04811313e+01,   1.26485522e+01,\n",
       "           1.52641797e+01,   1.84206997e+01,   2.22299648e+01,\n",
       "           2.68269580e+01,   3.23745754e+01,   3.90693994e+01,\n",
       "           4.71486636e+01,   5.68986603e+01,   6.86648845e+01,\n",
       "           8.28642773e+01,   1.00000000e+02]),\n",
       "  array([  1.00000000e-02,   1.20679264e-02,   1.45634848e-02,\n",
       "           1.75751062e-02,   2.12095089e-02,   2.55954792e-02,\n",
       "           3.08884360e-02,   3.72759372e-02,   4.49843267e-02,\n",
       "           5.42867544e-02,   6.55128557e-02,   7.90604321e-02,\n",
       "           9.54095476e-02,   1.15139540e-01,   1.38949549e-01,\n",
       "           1.67683294e-01,   2.02358965e-01,   2.44205309e-01,\n",
       "           2.94705170e-01,   3.55648031e-01,   4.29193426e-01,\n",
       "           5.17947468e-01,   6.25055193e-01,   7.54312006e-01,\n",
       "           9.10298178e-01,   1.09854114e+00,   1.32571137e+00,\n",
       "           1.59985872e+00,   1.93069773e+00,   2.32995181e+00,\n",
       "           2.81176870e+00,   3.39322177e+00,   4.09491506e+00,\n",
       "           4.94171336e+00,   5.96362332e+00,   7.19685673e+00,\n",
       "           8.68511374e+00,   1.04811313e+01,   1.26485522e+01,\n",
       "           1.52641797e+01,   1.84206997e+01,   2.22299648e+01,\n",
       "           2.68269580e+01,   3.23745754e+01,   3.90693994e+01,\n",
       "           4.71486636e+01,   5.68986603e+01,   6.86648845e+01,\n",
       "           8.28642773e+01,   1.00000000e+02])])"
      ]
     },
     "execution_count": 58,
     "metadata": {},
     "output_type": "execute_result"
    },
    {
     "data": {
      "image/png": "[encoded data removed]",
      "text/plain": [
       "<matplotlib.figure.Figure at 0x7fdeb156e4d0>"
      ]
     },
     "metadata": {},
     "output_type": "display_data"
    }
   ],
   "source": [
    "Gs = cm.tf(numcoeffs, dencoeffs)\n",
    "Gsv = cm.tf(numcoeffsv, dencoeffsv)\n",
    "cm.bode(Gs, Gsv)\n"
   ]
  },
  {
   "cell_type": "code",
   "execution_count": 39,
   "metadata": {},
   "outputs": [
    {
     "data": {
      "text/plain": [
       "array([-0.0309174+1.0005708j , -0.0309174-1.0005708j ,\n",
       "       -0.2340826+0.66645227j, -0.2340826-0.66645227j])"
      ]
     },
     "execution_count": 39,
     "metadata": {},
     "output_type": "execute_result"
    }
   ],
   "source": [
    "cm.pole(Gs)"
   ]
  },
  {
   "cell_type": "code",
   "execution_count": 59,
   "metadata": {},
   "outputs": [
    {
     "data": {
      "text/plain": [
       "\n",
       "           s^2 + 0.5 s + 0.5\n",
       "--------------------------------------\n",
       "100 s^4 + 53 s^3 + 153 s^2 + 50 s + 50"
      ]
     },
     "execution_count": 59,
     "metadata": {},
     "output_type": "execute_result"
    }
   ],
   "source": [
    "Gsv"
   ]
  },
  {
   "cell_type": "code",
   "execution_count": 29,
   "metadata": {},
   "outputs": [
    {
     "data": {
      "text/plain": [
       "array([ 1.,  0.,  0.])"
      ]
     },
     "execution_count": 29,
     "metadata": {},
     "output_type": "execute_result"
    }
   ],
   "source": [
    "numcoeffs"
   ]
  },
  {
   "cell_type": "code",
   "execution_count": 43,
   "metadata": {},
   "outputs": [
    {
     "data": {
      "text/plain": [
       "\n",
       "                 0.01\n",
       "-------------------------------------\n",
       "s^4 + 0.5 s^3 + 1.5 s^2 + 0.5 s + 0.5"
      ]
     },
     "execution_count": 43,
     "metadata": {},
     "output_type": "execute_result"
    }
   ],
   "source": [
    "Gs2 = cm.tf(1./100*np.array([0,0,1.]), [1, 0.5, 1.5, 0.5, 0.5])\n",
    "Gs2"
   ]
  },
  {
   "cell_type": "code",
   "execution_count": 44,
   "metadata": {},
   "outputs": [
    {
     "data": {
      "text/plain": [
       "array([  5.27355937e-16+1.j        ,   5.27355937e-16-1.j        ,\n",
       "        -2.50000000e-01+0.66143783j,  -2.50000000e-01-0.66143783j])"
      ]
     },
     "execution_count": 44,
     "metadata": {},
     "output_type": "execute_result"
    }
   ],
   "source": [
    "cm.pole(Gs2)"
   ]
  },
  {
   "cell_type": "code",
   "execution_count": 48,
   "metadata": {},
   "outputs": [
    {
     "data": {
      "image/png": "[encoded data removed]",
      "text/latex": [
       "$$s^{4} + 5.2 s^{3} + 9.0 s^{2} + 6.4 s + 7$$"
      ],
      "text/plain": [
       " 4        3        2            \n",
       "s  + 5.2⋅s  + 9.0⋅s  + 6.4⋅s + 7"
      ]
     },
     "execution_count": 48,
     "metadata": {},
     "output_type": "execute_result"
    }
   ],
   "source": [
    "sy.simplify(sy.expand((s**2 + 2*0.1*1*s + 1)*(s**2 + 5*s + 7)))"
   ]
  },
  {
   "cell_type": "code",
   "execution_count": 55,
   "metadata": {},
   "outputs": [
    {
     "data": {
      "text/plain": [
       "\n",
       "                   0.5 s^2\n",
       "---------------------------------------------\n",
       "s^4 + 0.7 s^3 + 1.533 s^2 + 0.5895 s + 0.4267"
      ]
     },
     "execution_count": 55,
     "metadata": {},
     "output_type": "execute_result"
    }
   ],
   "source": [
    "(num3, den3) = cm.zpk2tf(k=0.5, p=[-0.1+1j, -0.1-1j, -0.25 + 0.6*1j, -0.25-0.6*1j], z=[0, 0])\n",
    "Gs3 = cm.tf(num3, den3)\n",
    "Gs3"
   ]
  },
  {
   "cell_type": "code",
   "execution_count": 56,
   "metadata": {},
   "outputs": [
    {
     "data": {
      "text/plain": [
       "(array([[-0.24977716 -0.59987339j, -0.24977716 +0.59987339j,\n",
       "         -0.10022284 -1.00029254j, -0.10022284 +1.00029254j],\n",
       "        [-0.24970467 -0.59983211j, -0.24970467 +0.59983211j,\n",
       "         -0.10029533 -1.00038786j, -0.10029533 +1.00038786j],\n",
       "        [-0.24960864 -0.59977735j, -0.24960864 +0.59977735j,\n",
       "         -0.10039136 -1.00051426j, -0.10039136 +1.00051426j],\n",
       "        [-0.24948146 -0.59970469j, -0.24948146 +0.59970469j,\n",
       "         -0.10051854 -1.00068188j, -0.10051854 +1.00068188j],\n",
       "        [-0.24931306 -0.59960827j, -0.24931306 +0.59960827j,\n",
       "         -0.10068694 -1.0009042j , -0.10068694 +1.0009042j ],\n",
       "        [-0.24909019 -0.59948026j, -0.24909019 +0.59948026j,\n",
       "         -0.10090981 -1.00119908j, -0.10090981 +1.00119908j],\n",
       "        [-0.24879539 -0.59931025j, -0.24879539 +0.59931025j,\n",
       "         -0.10120461 -1.00159028j, -0.10120461 +1.00159028j],\n",
       "        [-0.24840573 -0.59908432j, -0.24840573 +0.59908432j,\n",
       "         -0.10159427 -1.00210938j, -0.10159427 +1.00210938j],\n",
       "        [-0.24789121 -0.59878388j, -0.24789121 +0.59878388j,\n",
       "         -0.10210879 -1.00279838j, -0.10210879 +1.00279838j],\n",
       "        [-0.24721270 -0.59838399j, -0.24721270 +0.59838399j,\n",
       "         -0.10278730 -1.00371322j, -0.10278730 +1.00371322j],\n",
       "        [-0.24631950 -0.59785115j, -0.24631950 +0.59785115j,\n",
       "         -0.10368050 -1.00492841j, -0.10368050 +1.00492841j],\n",
       "        [-0.24514646 -0.59714023j, -0.24514646 +0.59714023j,\n",
       "         -0.10485354 -1.00654338j, -0.10485354 +1.00654338j],\n",
       "        [-0.24361078 -0.59619026j, -0.24361078 +0.59619026j,\n",
       "         -0.10638922 -1.00869089j, -0.10638922 +1.00869089j],\n",
       "        [-0.24160890 -0.59491885j, -0.24160890 +0.59491885j,\n",
       "         -0.10839110 -1.0115482j , -0.10839110 +1.0115482j ],\n",
       "        [-0.23901424 -0.59321465j, -0.23901424 +0.59321465j,\n",
       "         -0.11098576 -1.01535186j, -0.11098576 +1.01535186j],\n",
       "        [-0.23567710 -0.5909281j , -0.23567710 +0.5909281j ,\n",
       "         -0.11432290 -1.02041651j, -0.11432290 +1.02041651j],\n",
       "        [-0.23142905 -0.58786065j, -0.23142905 +0.58786065j,\n",
       "         -0.11857095 -1.02715785j, -0.11857095 +1.02715785j],\n",
       "        [-0.22609449 -0.58375499j, -0.22609449 +0.58375499j,\n",
       "         -0.12390551 -1.03611825j, -0.12390551 +1.03611825j],\n",
       "        [-0.21951209 -0.57829078j, -0.21951209 +0.57829078j,\n",
       "         -0.13048791 -1.04799111j, -0.13048791 +1.04799111j],\n",
       "        [-0.21156553 -0.57109361j, -0.21156553 +0.57109361j,\n",
       "         -0.13843447 -1.06363702j, -0.13843447 +1.06363702j],\n",
       "        [-0.20221661 -0.56176516j, -0.20221661 +0.56176516j,\n",
       "         -0.14778339 -1.08408479j, -0.14778339 +1.08408479j],\n",
       "        [-0.19152693 -0.54993579j, -0.19152693 +0.54993579j,\n",
       "         -0.15847307 -1.11051636j, -0.15847307 +1.11051636j],\n",
       "        [-0.17965422 -0.53532726j, -0.17965422 +0.53532726j,\n",
       "         -0.17034578 -1.1442481j , -0.17034578 +1.1442481j ],\n",
       "        [-0.16682276 -0.51780329j, -0.16682276 +0.51780329j,\n",
       "         -0.18317724 -1.18672986j, -0.18317724 +1.18672986j],\n",
       "        [-0.15328440 -0.49739092j, -0.15328440 +0.49739092j,\n",
       "         -0.19671560 -1.23957698j, -0.19671560 +1.23957698j],\n",
       "        [-0.13929077 -0.47427313j, -0.13929077 +0.47427313j,\n",
       "         -0.21070923 -1.30463136j, -0.21070923 +1.30463136j],\n",
       "        [-0.12508543 -0.4487659j , -0.12508543 +0.4487659j ,\n",
       "         -0.22491457 -1.38403435j, -0.22491457 +1.38403435j],\n",
       "        [-0.11090977 -0.4212913j , -0.11090977 +0.4212913j ,\n",
       "         -0.23909023 -1.4802951j , -0.23909023 +1.4802951j ],\n",
       "        [-0.09701088 -0.39235118j, -0.09701088 +0.39235118j,\n",
       "         -0.25298912 -1.59634678j, -0.25298912 +1.59634678j],\n",
       "        [-0.08364149 -0.36250011j, -0.08364149 +0.36250011j,\n",
       "         -0.26635851 -1.73559113j, -0.26635851 +1.73559113j],\n",
       "        [-0.07104838 -0.33231581j, -0.07104838 +0.33231581j,\n",
       "         -0.27895162 -1.90193619j, -0.27895162 +1.90193619j],\n",
       "        [-0.05945172 -0.30236694j, -0.05945172 +0.30236694j,\n",
       "         -0.29054828 -2.09983404j, -0.29054828 +2.09983404j],\n",
       "        [-0.04902199 -0.27318067j, -0.04902199 +0.27318067j,\n",
       "         -0.30097801 -2.33432583j, -0.30097801 +2.33432583j],\n",
       "        [-0.03986220 -0.2452135j , -0.03986220 +0.2452135j ,\n",
       "         -0.31013780 -2.6111014j , -0.31013780 +2.6111014j ],\n",
       "        [-0.03200097 -0.21882947j, -0.03200097 +0.21882947j,\n",
       "         -0.31799903 -2.93658024j, -0.31799903 +2.93658024j],\n",
       "        [-0.02539786 -0.19428865j, -0.02539786 +0.19428865j,\n",
       "         -0.32460214 -3.31801931j, -0.32460214 +3.31801931j],\n",
       "        [-0.01995820 -0.17174674j, -0.01995820 +0.17174674j,\n",
       "         -0.33004180 -3.76365097j, -0.33004180 +3.76365097j],\n",
       "        [-0.01555251 -0.1512646j , -0.01555251 +0.1512646j ,\n",
       "         -0.33444749 -4.28285242j, -0.33444749 +4.28285242j],\n",
       "        [-0.01203548 -0.13282439j, -0.01203548 +0.13282439j,\n",
       "         -0.33796452 -4.88634689j, -0.33796452 +4.88634689j],\n",
       "        [-0.00926142 -0.11634864j, -0.00926142 +0.11634864j,\n",
       "         -0.34073858 -5.58643608j, -0.34073858 +5.58643608j],\n",
       "        [-0.00709470 -0.10171918j, -0.00709470 +0.10171918j,\n",
       "         -0.34290530 -6.39726533j, -0.34290530 +6.39726533j],\n",
       "        [-0.00541558 -0.0887936j , -0.00541558 +0.0887936j ,\n",
       "         -0.34458442 -7.33512373j, -0.34458442 +7.33512373j],\n",
       "        [-0.00412239 -0.0774183j , -0.00412239 +0.0774183j ,\n",
       "         -0.34587761 -8.41878432j, -0.34587761 +8.41878432j],\n",
       "        [-0.00313124 -0.06743815j, -0.00313124 +0.06743815j,\n",
       "         -0.34686876 -9.66989029j, -0.34686876 +9.66989029j],\n",
       "        [-0.00237446 -0.05870295j, -0.00237446 +0.05870295j,\n",
       "         -0.34762554-11.11339542j, -0.34762554+11.11339542j],\n",
       "        [-0.00179829 -0.0510715j , -0.00179829 +0.0510715j ,\n",
       "         -0.34820171-12.77806779j, -0.34820171+12.77806779j],\n",
       "        [-0.00136061 -0.04441376j, -0.00136061 +0.04441376j,\n",
       "         -0.34863939-14.69706745j, -0.34863939+14.69706745j],\n",
       "        [-0.00102869 -0.03861176j, -0.00102869 +0.03861176j,\n",
       "         -0.34897131-16.90861001j, -0.34897131+16.90861001j],\n",
       "        [-0.00077731 -0.03355968j, -0.00077731 +0.03355968j,\n",
       "         -0.34922269-19.45672979j, -0.34922269+19.45672979j],\n",
       "        [-0.00058711 -0.02916334j, -0.00058711 +0.02916334j,\n",
       "         -0.34941289-22.39215798j, -0.34941289+22.39215798j]]),\n",
       " array([  1.00000000e-03,   1.32571137e-03,   1.75751062e-03,\n",
       "          2.32995181e-03,   3.08884360e-03,   4.09491506e-03,\n",
       "          5.42867544e-03,   7.19685673e-03,   9.54095476e-03,\n",
       "          1.26485522e-02,   1.67683294e-02,   2.22299648e-02,\n",
       "          2.94705170e-02,   3.90693994e-02,   5.17947468e-02,\n",
       "          6.86648845e-02,   9.10298178e-02,   1.20679264e-01,\n",
       "          1.59985872e-01,   2.12095089e-01,   2.81176870e-01,\n",
       "          3.72759372e-01,   4.94171336e-01,   6.55128557e-01,\n",
       "          8.68511374e-01,   1.15139540e+00,   1.52641797e+00,\n",
       "          2.02358965e+00,   2.68269580e+00,   3.55648031e+00,\n",
       "          4.71486636e+00,   6.25055193e+00,   8.28642773e+00,\n",
       "          1.09854114e+01,   1.45634848e+01,   1.93069773e+01,\n",
       "          2.55954792e+01,   3.39322177e+01,   4.49843267e+01,\n",
       "          5.96362332e+01,   7.90604321e+01,   1.04811313e+02,\n",
       "          1.38949549e+02,   1.84206997e+02,   2.44205309e+02,\n",
       "          3.23745754e+02,   4.29193426e+02,   5.68986603e+02,\n",
       "          7.54312006e+02,   1.00000000e+03]))"
      ]
     },
     "execution_count": 56,
     "metadata": {},
     "output_type": "execute_result"
    },
    {
     "data": {
      "image/png": "[encoded data removed]",
      "text/plain": [
       "<matplotlib.figure.Figure at 0x7fde82d80350>"
      ]
     },
     "metadata": {},
     "output_type": "display_data"
    }
   ],
   "source": [
    "cm.rlocus(Gs3)"
   ]
  },
  {
   "cell_type": "code",
   "execution_count": 50,
   "metadata": {},
   "outputs": [
    {
     "data": {
      "text/plain": [
       "(1+1j)"
      ]
     },
     "execution_count": 50,
     "metadata": {},
     "output_type": "execute_result"
    }
   ],
   "source": [
    "1+ 1J"
   ]
  },
  {
   "cell_type": "code",
   "execution_count": null,
   "metadata": {
    "collapsed": true
   },
   "outputs": [],
   "source": []
  }
 ],
 "metadata": {
  "kernelspec": {
   "display_name": "Python 2",
   "language": "python",
   "name": "python2"
  },
  "language_info": {
   "codemirror_mode": {
    "name": "ipython",
    "version": 2
   },
   "file_extension": ".py",
   "mimetype": "text/x-python",
   "name": "python",
   "nbconvert_exporter": "python",
   "pygments_lexer": "ipython2",
   "version": "2.7.13"
  }
 },
 "nbformat": 4,
 "nbformat_minor": 2
}
